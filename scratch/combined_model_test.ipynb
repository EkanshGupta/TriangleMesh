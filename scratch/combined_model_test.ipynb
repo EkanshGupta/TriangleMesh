{
 "cells": [
  {
   "cell_type": "code",
   "execution_count": 1,
   "metadata": {},
   "outputs": [],
   "source": [
    "%load_ext autoreload\n",
    "%autoreload 2"
   ]
  },
  {
   "cell_type": "code",
   "execution_count": 2,
   "metadata": {},
   "outputs": [],
   "source": [
    "import os\n",
    "import sys\n",
    "\n",
    "sys.path.append('..')"
   ]
  },
  {
   "cell_type": "code",
   "execution_count": 3,
   "metadata": {},
   "outputs": [],
   "source": [
    "import copy\n",
    "import math\n",
    "import numpy as np\n",
    "import torch\n",
    "import torch.nn as nn\n",
    "import torch.nn.functional as F"
   ]
  },
  {
   "cell_type": "markdown",
   "metadata": {},
   "source": [
    "## DGCNN branch"
   ]
  },
  {
   "cell_type": "code",
   "execution_count": 4,
   "metadata": {},
   "outputs": [],
   "source": [
    "from dgcnn.model import get_graph_feature\n",
    "\n",
    "\n",
    "class DGCNNFeatureExtractor(nn.Module):\n",
    "    def __init__(self, args: dict):\n",
    "        '''\n",
    "        args must contain:\n",
    "            'k'\n",
    "            'emb_dims'\n",
    "        '''\n",
    "        super(DGCNNFeatureExtractor, self).__init__()\n",
    "        self.args = args\n",
    "        self.k = args['k']\n",
    "        \n",
    "        self.bn1 = nn.BatchNorm2d(64)\n",
    "        self.bn2 = nn.BatchNorm2d(64)\n",
    "        self.bn3 = nn.BatchNorm2d(128)\n",
    "        self.bn4 = nn.BatchNorm2d(256)\n",
    "        self.bn5 = nn.BatchNorm1d(args['emb_dims'])\n",
    "\n",
    "        self.conv1 = nn.Sequential(nn.Conv2d(6, 64, kernel_size=1, bias=False),\n",
    "                                   self.bn1,\n",
    "                                   nn.LeakyReLU(negative_slope=0.2))\n",
    "        self.conv2 = nn.Sequential(nn.Conv2d(64*2, 64, kernel_size=1, bias=False),\n",
    "                                   self.bn2,\n",
    "                                   nn.LeakyReLU(negative_slope=0.2))\n",
    "        self.conv3 = nn.Sequential(nn.Conv2d(64*2, 128, kernel_size=1, bias=False),\n",
    "                                   self.bn3,\n",
    "                                   nn.LeakyReLU(negative_slope=0.2))\n",
    "        self.conv4 = nn.Sequential(nn.Conv2d(128*2, 256, kernel_size=1, bias=False),\n",
    "                                   self.bn4,\n",
    "                                   nn.LeakyReLU(negative_slope=0.2))\n",
    "        self.conv5 = nn.Sequential(nn.Conv1d(512, args['emb_dims'], kernel_size=1, bias=False),\n",
    "                                   self.bn5,\n",
    "                                   nn.LeakyReLU(negative_slope=0.2))\n",
    "\n",
    "\n",
    "    def forward(self, x):\n",
    "        batch_size = x.size(0)\n",
    "        x = get_graph_feature(x, k=self.k)\n",
    "        x = self.conv1(x)\n",
    "        x1 = x.max(dim=-1, keepdim=False)[0]\n",
    "\n",
    "        x = get_graph_feature(x1, k=self.k)\n",
    "        x = self.conv2(x)\n",
    "        x2 = x.max(dim=-1, keepdim=False)[0]\n",
    "\n",
    "        x = get_graph_feature(x2, k=self.k)\n",
    "        x = self.conv3(x)\n",
    "        x3 = x.max(dim=-1, keepdim=False)[0]\n",
    "\n",
    "        x = get_graph_feature(x3, k=self.k)\n",
    "        x = self.conv4(x)\n",
    "        x4 = x.max(dim=-1, keepdim=False)[0]\n",
    "\n",
    "        x = torch.cat((x1, x2, x3, x4), dim=1)\n",
    "\n",
    "        x = self.conv5(x)\n",
    "        x1 = F.adaptive_max_pool1d(x, 1).view(batch_size, -1)\n",
    "        x2 = F.adaptive_avg_pool1d(x, 1).view(batch_size, -1)\n",
    "        x = torch.cat((x1, x2), 1)\n",
    "\n",
    "        return x"
   ]
  },
  {
   "cell_type": "code",
   "execution_count": 5,
   "metadata": {},
   "outputs": [
    {
     "data": {
      "text/plain": [
       "(DGCNNFeatureExtractor(\n",
       "   (bn1): BatchNorm2d(64, eps=1e-05, momentum=0.1, affine=True, track_running_stats=True)\n",
       "   (bn2): BatchNorm2d(64, eps=1e-05, momentum=0.1, affine=True, track_running_stats=True)\n",
       "   (bn3): BatchNorm2d(128, eps=1e-05, momentum=0.1, affine=True, track_running_stats=True)\n",
       "   (bn4): BatchNorm2d(256, eps=1e-05, momentum=0.1, affine=True, track_running_stats=True)\n",
       "   (bn5): BatchNorm1d(128, eps=1e-05, momentum=0.1, affine=True, track_running_stats=True)\n",
       "   (conv1): Sequential(\n",
       "     (0): Conv2d(6, 64, kernel_size=(1, 1), stride=(1, 1), bias=False)\n",
       "     (1): BatchNorm2d(64, eps=1e-05, momentum=0.1, affine=True, track_running_stats=True)\n",
       "     (2): LeakyReLU(negative_slope=0.2)\n",
       "   )\n",
       "   (conv2): Sequential(\n",
       "     (0): Conv2d(128, 64, kernel_size=(1, 1), stride=(1, 1), bias=False)\n",
       "     (1): BatchNorm2d(64, eps=1e-05, momentum=0.1, affine=True, track_running_stats=True)\n",
       "     (2): LeakyReLU(negative_slope=0.2)\n",
       "   )\n",
       "   (conv3): Sequential(\n",
       "     (0): Conv2d(128, 128, kernel_size=(1, 1), stride=(1, 1), bias=False)\n",
       "     (1): BatchNorm2d(128, eps=1e-05, momentum=0.1, affine=True, track_running_stats=True)\n",
       "     (2): LeakyReLU(negative_slope=0.2)\n",
       "   )\n",
       "   (conv4): Sequential(\n",
       "     (0): Conv2d(256, 256, kernel_size=(1, 1), stride=(1, 1), bias=False)\n",
       "     (1): BatchNorm2d(256, eps=1e-05, momentum=0.1, affine=True, track_running_stats=True)\n",
       "     (2): LeakyReLU(negative_slope=0.2)\n",
       "   )\n",
       "   (conv5): Sequential(\n",
       "     (0): Conv1d(512, 128, kernel_size=(1,), stride=(1,), bias=False)\n",
       "     (1): BatchNorm1d(128, eps=1e-05, momentum=0.1, affine=True, track_running_stats=True)\n",
       "     (2): LeakyReLU(negative_slope=0.2)\n",
       "   )\n",
       " ),\n",
       " torch.Size([8, 256]))"
      ]
     },
     "execution_count": 5,
     "metadata": {},
     "output_type": "execute_result"
    }
   ],
   "source": [
    "dgcnn_args = {\n",
    "    'k': 5,\n",
    "    'emb_dims': 128,\n",
    "}\n",
    "\n",
    "dgcnn_feat_ex = DGCNNFeatureExtractor(dgcnn_args)\n",
    "dgcnn_feat_ex.eval()\n",
    "dgcnn_feat_ex, dgcnn_feat_ex(torch.randn((8,3,1024))).shape"
   ]
  },
  {
   "cell_type": "markdown",
   "metadata": {},
   "source": [
    "## MeshCNN branch"
   ]
  },
  {
   "cell_type": "code",
   "execution_count": 6,
   "metadata": {},
   "outputs": [],
   "source": [
    "from meshcnn.models.networks import MResConv, get_norm_args, get_norm_layer\n",
    "from meshcnn.models.layers.mesh_pool import MeshPool\n",
    "from meshcnn.models.layers.mesh import Mesh\n",
    "\n",
    "\n",
    "class MeshCNNFeatureExtractor(nn.Module):\n",
    "    def __init__(self, args: dict):\n",
    "        '''\n",
    "        args must contain:\n",
    "            'nf0': int\n",
    "                num input channels (5 for the usual MeshCNN initial edge features)\n",
    "                Corresponds to \"opt.input_nc\" in original code, with no default (inferred from dataset)\n",
    "\n",
    "            'conv_res': list of ints\n",
    "                num out channels (i.e. filters) for each meshconv layer\n",
    "                Corresponds to \"opt.ncf\" in original code, with default [16, 32, 32]\n",
    "\n",
    "            'input_res': int\n",
    "                num input edges (we take only this many edges from each input mesh)\n",
    "                Corresponds to \"opt.ninput_edges\" in original code, with default 750\n",
    "\n",
    "            'pool_res': list of ints\n",
    "                num edges to keep after each meshpool layer\n",
    "                Corresponds to \"opt.pool_res\" in original code, with default [1140, 780, 580] \n",
    "\n",
    "            'norm': str, one of ['batch', 'instance', 'group', 'none']\n",
    "                type of norm layer to use\n",
    "                Corresponds to \"opt.norm\" in original code, with default 'batch'\n",
    "\n",
    "            'num_groups': int\n",
    "                num of groups for groupnorm\n",
    "                Corresponds to \"opt.num_groups\" in original code, with default 16\n",
    "\n",
    "            'nresblocks': int\n",
    "                num res blocks in each mresconv\n",
    "                Corresponds to \"opt.resblocks\" in original code, with default 0\n",
    "        '''\n",
    "        super(MeshCNNFeatureExtractor, self).__init__()\n",
    "        self.k = [args['nf0']] + args['conv_res']\n",
    "        self.res = [args['input_res']] + args['pool_res']\n",
    "\n",
    "        norm_layer = get_norm_layer(norm_type=args['norm'], num_groups=args['num_groups'])\n",
    "        norm_args = get_norm_args(norm_layer, self.k[1:])\n",
    "\n",
    "        for i, ki in enumerate(self.k[:-1]):\n",
    "            setattr(self, 'conv{}'.format(i), MResConv(ki, self.k[i + 1], args['nresblocks']))\n",
    "            setattr(self, 'norm{}'.format(i), norm_layer(**norm_args[i]))\n",
    "            setattr(self, 'pool{}'.format(i), MeshPool(self.res[i + 1]))\n",
    "\n",
    "\n",
    "        self.gp = nn.AvgPool1d(self.res[-1])\n",
    "        # self.gp = nn.MaxPool1d(self.res[-1])\n",
    "\n",
    "    def forward(self, x, mesh):\n",
    "\n",
    "        for i in range(len(self.k) - 1):\n",
    "            x = getattr(self, 'conv{}'.format(i))(x, mesh)\n",
    "            x = F.relu(getattr(self, 'norm{}'.format(i))(x))\n",
    "            x = getattr(self, 'pool{}'.format(i))(x, mesh)\n",
    "\n",
    "        x = self.gp(x)\n",
    "        x = x.view(-1, self.k[-1])\n",
    "\n",
    "        return x\n"
   ]
  },
  {
   "cell_type": "code",
   "execution_count": 7,
   "metadata": {},
   "outputs": [
    {
     "data": {
      "text/plain": [
       "({'mesh': <meshcnn.models.layers.mesh.Mesh at 0x225f257ce48>,\n",
       "  'label': 0,\n",
       "  'edge_features': array([[1.57387046, 1.57369169, 1.57342915, ..., 1.57413897, 1.57166371,\n",
       "          1.57090315],\n",
       "         [1.35346367, 1.31874424, 1.4147537 , ..., 1.28607998, 1.41143283,\n",
       "          1.52148169],\n",
       "         [1.46005855, 1.49583822, 1.47602932, ..., 1.35379826, 1.48621636,\n",
       "          1.53421813],\n",
       "         [1.01332234, 0.83147991, 0.89266225, ..., 1.33598894, 0.85190091,\n",
       "          0.65474185],\n",
       "         [1.46880606, 1.35175648, 1.14274885, ..., 1.6005793 , 1.03006614,\n",
       "          0.68757185]])},\n",
       " (5, 750))"
      ]
     },
     "execution_count": 7,
     "metadata": {},
     "output_type": "execute_result"
    }
   ],
   "source": [
    "'''\n",
    "meshcnn data loader item format - dict, with keys:\n",
    "    'mesh': Mesh class instance\n",
    "    'label': Output class label\n",
    "    'edge_features': Features extracted using extract_features() of the Mesh object above,\n",
    "                     but PADDED TO ninput_edges AND NORMALIZED BY MEAN&STD OF DATA\n",
    "'''\n",
    "\n",
    "mesh = Mesh(\n",
    "    file=r'C:\\Academic\\GT - MSCS\\Sem II - Spring 2022\\CS 7643 - DL\\Project\\src\\dgcnn\\pytorch\\data\\shrec_16\\armadillo\\test\\T55.obj',\n",
    "    opt=None, export_folder=None)\n",
    "test_data = {\n",
    "    'mesh': mesh,\n",
    "    'label': 0,\n",
    "    'edge_features': mesh.extract_features(),\n",
    "}\n",
    "test_data, test_data['edge_features'].shape"
   ]
  },
  {
   "cell_type": "code",
   "execution_count": 8,
   "metadata": {},
   "outputs": [
    {
     "data": {
      "text/plain": [
       "((1, 5, 750, 1), [<meshcnn.models.layers.mesh.Mesh at 0x225f257ce48>])"
      ]
     },
     "execution_count": 8,
     "metadata": {},
     "output_type": "execute_result"
    }
   ],
   "source": [
    "test_data['edge_features'][None,...,None].shape, [test_data['mesh']]"
   ]
  },
  {
   "cell_type": "code",
   "execution_count": 9,
   "metadata": {},
   "outputs": [
    {
     "data": {
      "text/plain": [
       "(MeshCNNFeatureExtractor(\n",
       "   (conv0): MResConv(\n",
       "     (conv0): MeshConv(\n",
       "       (conv): Conv2d(5, 64, kernel_size=(1, 5), stride=(1, 1), bias=False)\n",
       "     )\n",
       "     (bn1): BatchNorm2d(64, eps=1e-05, momentum=0.1, affine=True, track_running_stats=True)\n",
       "     (conv1): MeshConv(\n",
       "       (conv): Conv2d(64, 64, kernel_size=(1, 5), stride=(1, 1), bias=False)\n",
       "     )\n",
       "   )\n",
       "   (norm0): GroupNorm(16, 64, eps=1e-05, affine=True)\n",
       "   (pool0): MeshPool()\n",
       "   (conv1): MResConv(\n",
       "     (conv0): MeshConv(\n",
       "       (conv): Conv2d(64, 128, kernel_size=(1, 5), stride=(1, 1), bias=False)\n",
       "     )\n",
       "     (bn1): BatchNorm2d(128, eps=1e-05, momentum=0.1, affine=True, track_running_stats=True)\n",
       "     (conv1): MeshConv(\n",
       "       (conv): Conv2d(128, 128, kernel_size=(1, 5), stride=(1, 1), bias=False)\n",
       "     )\n",
       "   )\n",
       "   (norm1): GroupNorm(16, 128, eps=1e-05, affine=True)\n",
       "   (pool1): MeshPool()\n",
       "   (conv2): MResConv(\n",
       "     (conv0): MeshConv(\n",
       "       (conv): Conv2d(128, 256, kernel_size=(1, 5), stride=(1, 1), bias=False)\n",
       "     )\n",
       "     (bn1): BatchNorm2d(256, eps=1e-05, momentum=0.1, affine=True, track_running_stats=True)\n",
       "     (conv1): MeshConv(\n",
       "       (conv): Conv2d(256, 256, kernel_size=(1, 5), stride=(1, 1), bias=False)\n",
       "     )\n",
       "   )\n",
       "   (norm2): GroupNorm(16, 256, eps=1e-05, affine=True)\n",
       "   (pool2): MeshPool()\n",
       "   (conv3): MResConv(\n",
       "     (conv0): MeshConv(\n",
       "       (conv): Conv2d(256, 256, kernel_size=(1, 5), stride=(1, 1), bias=False)\n",
       "     )\n",
       "     (bn1): BatchNorm2d(256, eps=1e-05, momentum=0.1, affine=True, track_running_stats=True)\n",
       "     (conv1): MeshConv(\n",
       "       (conv): Conv2d(256, 256, kernel_size=(1, 5), stride=(1, 1), bias=False)\n",
       "     )\n",
       "   )\n",
       "   (norm3): GroupNorm(16, 256, eps=1e-05, affine=True)\n",
       "   (pool3): MeshPool()\n",
       "   (gp): AvgPool1d(kernel_size=(180,), stride=(180,), padding=(0,))\n",
       " ),\n",
       " torch.Size([1, 256]))"
      ]
     },
     "execution_count": 9,
     "metadata": {},
     "output_type": "execute_result"
    }
   ],
   "source": [
    "meshcnn_args = {\n",
    "    'nf0': test_data['edge_features'].shape[0],\n",
    "    'conv_res': [64, 128, 256, 256],\n",
    "    'input_res': test_data['edge_features'].shape[1],\n",
    "    'pool_res': [600, 450, 300, 180],\n",
    "    'norm': 'group',\n",
    "    'num_groups': 16,\n",
    "    'nresblocks': 1,\n",
    "}\n",
    "\n",
    "meshcnn_feat_ex = MeshCNNFeatureExtractor(meshcnn_args)\n",
    "meshcnn_feat_ex.eval()\n",
    "meshcnn_feat_ex, meshcnn_feat_ex(\n",
    "    torch.from_numpy(test_data['edge_features'][None,...,None]).float().to('cpu'),\n",
    "    [test_data['mesh']]).shape"
   ]
  }
 ],
 "metadata": {
  "interpreter": {
   "hash": "99bfbf8cecc21efa752308851eecf370eca7f2fbb7f44bd66e3ba553b0332285"
  },
  "kernelspec": {
   "display_name": "Python 3.7.13 ('dl_project__cpuonly')",
   "language": "python",
   "name": "python3"
  },
  "language_info": {
   "codemirror_mode": {
    "name": "ipython",
    "version": 3
   },
   "file_extension": ".py",
   "mimetype": "text/x-python",
   "name": "python",
   "nbconvert_exporter": "python",
   "pygments_lexer": "ipython3",
   "version": "3.7.13"
  },
  "orig_nbformat": 4
 },
 "nbformat": 4,
 "nbformat_minor": 2
}
